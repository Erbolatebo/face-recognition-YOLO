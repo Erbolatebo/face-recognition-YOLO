{
 "cells": [
  {
   "cell_type": "code",
   "execution_count": 5,
   "id": "e8d82e55-fa9d-4259-b0a4-715cde0887ee",
   "metadata": {},
   "outputs": [
    {
     "name": "stdin",
     "output_type": "stream",
     "text": [
      "Введите имя человека:  Batman\n"
     ]
    },
    {
     "name": "stdout",
     "output_type": "stream",
     "text": [
      "Сбор данных завершен: 1 изображений сохранено.\n"
     ]
    }
   ],
   "source": [
    "import cv2\n",
    "import os\n",
    "import time\n",
    "import numpy as np\n",
    "\n",
    "# Параметры\n",
    "DATASET_PATH = \"dataset\"\n",
    "\n",
    "def collect_faces(person_name, num_images=200):\n",
    "    cap = cv2.VideoCapture(0)\n",
    "    face_cascade = cv2.CascadeClassifier(cv2.data.haarcascades + 'haarcascade_frontalface_default.xml')\n",
    "    count = 0\n",
    "    \n",
    "    while count < num_images:\n",
    "        ret, frame = cap.read()\n",
    "        if not ret:\n",
    "            break\n",
    "        \n",
    "        # Преобразование в градации серого для Haar Cascade\n",
    "        gray = cv2.cvtColor(frame, cv2.COLOR_BGR2GRAY)\n",
    "        faces = face_cascade.detectMultiScale(gray, scaleFactor=1.1, minNeighbors=5, minSize=(30, 30))\n",
    "        \n",
    "        for (x, y, w, h) in faces:\n",
    "            face = frame[y:y+h, x:x+w]\n",
    "            face = cv2.cvtColor(face, cv2.COLOR_BGR2RGB)\n",
    "            person_path = os.path.join(DATASET_PATH, person_name)\n",
    "            os.makedirs(person_path, exist_ok=True)\n",
    "            cv2.imwrite(os.path.join(person_path, f\"{count}.jpg\"), face)\n",
    "            count += 1\n",
    "            cv2.rectangle(frame, (x, y), (x + w, y + h), (0, 255, 0), 2)\n",
    "        \n",
    "        cv2.imshow(\"Face Collection\", frame)\n",
    "        if cv2.waitKey(1) & 0xFF == ord('q'):\n",
    "            break\n",
    "        \n",
    "    cap.release()\n",
    "    cv2.destroyAllWindows()\n",
    "    print(f\"Сбор данных завершен: {count} изображений сохранено.\")\n",
    "\n",
    "if __name__ == \"__main__\":\n",
    "    person_name = input(\"Введите имя человека: \")\n",
    "    collect_faces(person_name)"
   ]
  },
  {
   "cell_type": "code",
   "execution_count": null,
   "id": "29682824-8e62-46c6-bf9f-6e7f7135d638",
   "metadata": {},
   "outputs": [],
   "source": []
  }
 ],
 "metadata": {
  "kernelspec": {
   "display_name": "Python 3 (ipykernel)",
   "language": "python",
   "name": "python3"
  },
  "language_info": {
   "codemirror_mode": {
    "name": "ipython",
    "version": 3
   },
   "file_extension": ".py",
   "mimetype": "text/x-python",
   "name": "python",
   "nbconvert_exporter": "python",
   "pygments_lexer": "ipython3",
   "version": "3.12.3"
  }
 },
 "nbformat": 4,
 "nbformat_minor": 5
}
